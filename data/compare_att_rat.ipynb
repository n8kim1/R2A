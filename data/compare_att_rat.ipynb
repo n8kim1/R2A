{
 "cells": [
  {
   "cell_type": "code",
   "execution_count": 1,
   "metadata": {},
   "outputs": [],
   "source": [
    "path_to_gpt3 = 'target/hotel_Cleanliness.gold_att.train'\n",
    "path_to_gold = 'target/hotel_Cleanliness.gold_att.train'\n",
    "path_to_pred = 'target/hotel_Cleanliness.pred_att.train'"
   ]
  },
  {
   "cell_type": "code",
   "execution_count": 2,
   "metadata": {},
   "outputs": [],
   "source": [
    "import pandas as pd\n",
    "from ast import literal_eval\n",
    "import torch\n",
    "import torch.nn as nn"
   ]
  },
  {
   "cell_type": "code",
   "execution_count": 3,
   "metadata": {},
   "outputs": [],
   "source": [
    "def load_rat_pred_gold(path, task, regression):\n",
    "    '''\n",
    "    path: path to the tsv file which contains label, text, oracle attention, rationale and R2A\n",
    "    generated attention\n",
    "    task: the name of the task\n",
    "    regression: a binary variable indicating whether we are doing classification or regression\n",
    "    '''\n",
    "    print(task)\n",
    "    df = pd.read_csv(path ,encoding='latin-1')\n",
    "\n",
    "    data = []\n",
    "\n",
    "    for row in df.itertuples(index=False):\n",
    "\n",
    "        # Only collect examples for this aspect\n",
    "        if task != row.task.strip():\n",
    "            print(\"stripping example for this aspect\")\n",
    "            continue\n",
    "\n",
    "        text = row.text.replace('  ',' ').split(' ')\n",
    "        rationale = [0 for i in range(len(text))]\n",
    "        pred_att  = [0 for i in range(len(text))]\n",
    "        gold_att  = [0 for i in range(len(text))]\n",
    "        # print(len(row))\n",
    "        if len(row) > 3:\n",
    "            rationale = literal_eval(row.gpt3_rationale)\n",
    "        \n",
    "        # TODO the following 2 prob need literal_eval or smth\n",
    "        if len(row) > 4:\n",
    "            pred_att = [float(x) for x in row[4].strip().split(' ')]\n",
    "        if len(row) > 5:\n",
    "            gold_att = [float(x) for x in row[5].strip().split(' ')]\n",
    "\n",
    "        data.append({\n",
    "            'text'     : text, \n",
    "            'label'    : float(row.label) if regression else int(float(row.label)),\n",
    "            'rationale': rationale,\n",
    "            'gold_att' : gold_att,\n",
    "            'pred_att' : pred_att,\n",
    "            })\n",
    "\n",
    "    return data"
   ]
  },
  {
   "cell_type": "code",
   "execution_count": 4,
   "metadata": {},
   "outputs": [],
   "source": [
    "def load_rat_pred_gold_orig(path, task, regression):\n",
    "    '''\n",
    "    path: path to the tsv file which contains label, text, oracle attention, rationale and R2A\n",
    "    generated attention\n",
    "    task: the name of the task\n",
    "    regression: a binary variable indicating whether we are doing classification or regression\n",
    "    '''\n",
    "    with open(path, 'r') as f:\n",
    "        next(f)\n",
    "        data = []\n",
    "\n",
    "        for row in f:\n",
    "            row = row.strip().split('\\t')\n",
    "\n",
    "            # Only collect examples for this aspect\n",
    "            if task != row[0].strip():\n",
    "                continue\n",
    "\n",
    "            text = row[2].replace('  ',' ').split(' ')\n",
    "            rationale = [0 for i in range(len(text))]\n",
    "            pred_att  = [0 for i in range(len(text))]\n",
    "            gold_att  = [0 for i in range(len(text))]\n",
    "\n",
    "            if len(row) > 3:\n",
    "                rationale = [round(float(x)) for x in row[3].strip().split(' ')]\n",
    "            if len(row) > 4:\n",
    "                pred_att = [float(x) for x in row[4].strip().split(' ')]\n",
    "            if len(row) > 5:\n",
    "                gold_att = [float(x) for x in row[5].strip().split(' ')]\n",
    "\n",
    "            data.append({\n",
    "                'text'     : text, \n",
    "                'label'    : float(row[1]),\n",
    "                'rationale': rationale,\n",
    "                'gold_att' : gold_att,\n",
    "                'pred_att' : pred_att,\n",
    "                })\n",
    "\n",
    "    return data"
   ]
  },
  {
   "cell_type": "code",
   "execution_count": 5,
   "metadata": {},
   "outputs": [],
   "source": [
    "data_gpt3 = load_rat_pred_gold_orig(path_to_gpt3, 'hotel_Cleanliness', False)\n",
    "\n",
    "rationales_gpt3 = []\n",
    "for el in data_gpt3:\n",
    "    # Normalize rationales to bring them to same scale as attention\n",
    "    rationale_tensor = torch.tensor(el['rationale'], dtype=torch.float)\n",
    "    rationale_tensor = rationale_tensor/torch.sum(rationale_tensor)\n",
    "    rationales_gpt3.append(rationale_tensor)"
   ]
  },
  {
   "cell_type": "code",
   "execution_count": 6,
   "metadata": {},
   "outputs": [],
   "source": [
    "data_gold = load_rat_pred_gold_orig(path_to_gold, 'hotel_Cleanliness', False)\n",
    "\n",
    "attentions_gold = []\n",
    "for el in data_gold:\n",
    "    attentions_gold.append(torch.tensor(el['gold_att'], dtype=torch.float))"
   ]
  },
  {
   "cell_type": "code",
   "execution_count": 7,
   "metadata": {},
   "outputs": [],
   "source": [
    "data_pred = load_rat_pred_gold_orig(path_to_pred, 'hotel_Cleanliness', False)\n",
    "attentions_pred = []\n",
    "for el in data_pred:\n",
    "    attentions_pred.append(torch.tensor(el['pred_att'], dtype=torch.float))"
   ]
  },
  {
   "cell_type": "code",
   "execution_count": 8,
   "metadata": {},
   "outputs": [
    {
     "name": "stdout",
     "output_type": "stream",
     "text": [
      "130\n",
      "\n",
      "133\n",
      "\n",
      "179\n",
      "\n"
     ]
    }
   ],
   "source": [
    "# loss = nn.MSELoss()\n",
    "loss = nn.KLDivLoss()\n",
    "\n",
    "for i in range(len(rationales_gpt3)):    \n",
    "    # KLDivLoss takes input in log space\n",
    "    gold_loss = (loss(torch.log(attentions_gold[i]), rationales_gpt3[i]))\n",
    "    pred_loss = (loss(torch.log(attentions_pred[i]), rationales_gpt3[i]))\n",
    "    # print(gold_loss)\n",
    "    # print(pred_loss)\n",
    "    if pred_loss <= gold_loss + 0.0001:\n",
    "        print(i)\n",
    "        # print(attentions_gold)\n",
    "        print()"
   ]
  },
  {
   "cell_type": "code",
   "execution_count": 9,
   "metadata": {},
   "outputs": [],
   "source": [
    "# loss = nn.MSELoss()\n",
    "\n",
    "# for i in range(len(rationales_human)):    \n",
    "#     gold_loss = (loss(attentions_gold[i], rationales_human[i]))\n",
    "#     pred_loss = (loss(attentions_pred[i], rationales_human[i]))\n",
    "#     print(gold_loss*1000)\n",
    "#     print(pred_loss*1000)\n",
    "#     # if pred_loss <= gold_loss + 0.0001:\n",
    "#         # print(i)\n",
    "#     print()"
   ]
  },
  {
   "cell_type": "code",
   "execution_count": 10,
   "metadata": {},
   "outputs": [],
   "source": [
    "# load gpt-3 rationales\n",
    "df_hotel_full = pd.read_csv('hotel_FINAL.csv', encoding='latin-1')"
   ]
  },
  {
   "cell_type": "code",
   "execution_count": 11,
   "metadata": {},
   "outputs": [
    {
     "data": {
      "text/plain": [
       "Index(['Unnamed: 0', 'Unnamed: 0.1', 'Unnamed: 0.1.1', 'Unnamed: 0.1.1.1',\n",
       "       'Unnamed: 0.1.1.1.1', 'Unnamed: 0.1.1.1.1.1', 'Unnamed: 0.1.1.1.1.1.1',\n",
       "       'Unnamed: 0.1.1.1.1.1.1.1', 'task', 'label', 'text', 'rationale',\n",
       "       'pred_att', 'gold_att', 'rat_frequency', 'split_text',\n",
       "       'gpt3_rationales_raw', 'gpt3_rationales_cleaned', 'gpt3_rationale',\n",
       "       'gpt3_rationales_raw_2', 'gpt3_rationales_cleaned_2'],\n",
       "      dtype='object')"
      ]
     },
     "execution_count": 11,
     "metadata": {},
     "output_type": "execute_result"
    }
   ],
   "source": [
    "df_hotel_full.columns"
   ]
  },
  {
   "cell_type": "code",
   "execution_count": 12,
   "metadata": {},
   "outputs": [],
   "source": [
    "rationales_standard = []\n",
    "\n",
    "for row in df_hotel_full.itertuples():\n",
    "    rationale_val = literal_eval(row.rationale)\n",
    "    rationale_tensor = torch.tensor(rationale_val, dtype=torch.float)\n",
    "    rationale_tensor = rationale_tensor/torch.sum(rationale_tensor)\n",
    "    rationales_standard.append(rationale_tensor)"
   ]
  },
  {
   "cell_type": "code",
   "execution_count": 16,
   "metadata": {},
   "outputs": [
    {
     "name": "stdout",
     "output_type": "stream",
     "text": [
      "23 tensor(0.0129)\n"
     ]
    }
   ],
   "source": [
    "loss = nn.KLDivLoss()\n",
    "\n",
    "best_idx = None\n",
    "best_diff = 0\n",
    "\n",
    "for i in range(len(rationales_standard)):    \n",
    "    # KLDivLoss takes input in log space\n",
    "    gold_loss = (loss(torch.log(attentions_gold[i]), rationales_standard[i]))\n",
    "    pred_loss = (loss(torch.log(attentions_pred[i]), rationales_standard[i]))\n",
    "    if gold_loss - pred_loss >= best_diff:\n",
    "        best_idx = i\n",
    "        best_diff = gold_loss - pred_loss\n",
    "\n",
    "print(best_idx, best_diff)"
   ]
  },
  {
   "cell_type": "code",
   "execution_count": 25,
   "metadata": {},
   "outputs": [],
   "source": [
    "best_gold = attentions_gold[best_idx].numpy()\n",
    "best_pred = attentions_pred[best_idx].numpy()\n",
    "best_rat = rationales_standard[best_idx].numpy()"
   ]
  },
  {
   "cell_type": "code",
   "execution_count": 22,
   "metadata": {},
   "outputs": [],
   "source": [
    "import matplotlib.pyplot as plt"
   ]
  },
  {
   "cell_type": "code",
   "execution_count": 36,
   "metadata": {},
   "outputs": [
    {
     "data": {
      "text/plain": [
       "<matplotlib.legend.Legend at 0x7f0d1dc49b90>"
      ]
     },
     "execution_count": 36,
     "metadata": {},
     "output_type": "execute_result"
    },
    {
     "data": {
      "image/png": "[encoded data removed]",
      "text/plain": [
       "<Figure size 640x480 with 1 Axes>"
      ]
     },
     "metadata": {},
     "output_type": "display_data"
    }
   ],
   "source": [
    "plt.plot(best_gold, label='orig attention')\n",
    "plt.plot(best_pred, label='rat-based attention')\n",
    "plt.plot(best_rat, label='human rationale')\n",
    "plt.legend()"
   ]
  },
  {
   "cell_type": "code",
   "execution_count": 39,
   "metadata": {},
   "outputs": [
    {
     "data": {
      "text/plain": [
       "array([0.04283196, 0.03446583, 0.03726208, 0.03926581, 0.03408082,\n",
       "       0.04021595, 0.04055145, 0.0396756 , 0.03479188, 0.03497623,\n",
       "       0.03441609, 0.03845121, 0.03755801, 0.03542202, 0.04191559,\n",
       "       0.03932069, 0.03584896, 0.03047368, 0.02724713, 0.02580532,\n",
       "       0.02385166, 0.02373719, 0.01989441, 0.01730809, 0.01705074,\n",
       "       0.01630894, 0.01640119, 0.01586462, 0.015757  , 0.01725925,\n",
       "       0.01764949, 0.01881588, 0.01850393, 0.01885855, 0.01816268],\n",
       "      dtype=float32)"
      ]
     },
     "execution_count": 39,
     "metadata": {},
     "output_type": "execute_result"
    }
   ],
   "source": [
    "best_pred"
   ]
  }
 ],
 "metadata": {
  "kernelspec": {
   "display_name": "r2a",
   "language": "python",
   "name": "python3"
  },
  "language_info": {
   "codemirror_mode": {
    "name": "ipython",
    "version": 3
   },
   "file_extension": ".py",
   "mimetype": "text/x-python",
   "name": "python",
   "nbconvert_exporter": "python",
   "pygments_lexer": "ipython3",
   "version": "3.7.15"
  },
  "orig_nbformat": 4,
  "vscode": {
   "interpreter": {
    "hash": "9e1eebd6bc4a6be4f142e211728573d9d489887d5a8b27ef141408415ea98eeb"
   }
  }
 },
 "nbformat": 4,
 "nbformat_minor": 2
}
